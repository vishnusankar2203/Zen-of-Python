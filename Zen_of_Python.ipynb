{
  "nbformat": 4,
  "nbformat_minor": 0,
  "metadata": {
    "colab": {
      "provenance": [],
      "authorship_tag": "ABX9TyNqIHLDO60u1K4YuAAnzcHL",
      "include_colab_link": true
    },
    "kernelspec": {
      "name": "python3",
      "display_name": "Python 3"
    },
    "language_info": {
      "name": "python"
    }
  },
  "cells": [
    {
      "cell_type": "markdown",
      "metadata": {
        "id": "view-in-github",
        "colab_type": "text"
      },
      "source": [
        "<a href=\"https://colab.research.google.com/github/vishnusankar2203/Zen-of-Python/blob/main/Zen_of_Python.ipynb\" target=\"_parent\"><img src=\"https://colab.research.google.com/assets/colab-badge.svg\" alt=\"Open In Colab\"/></a>"
      ]
    },
    {
      "cell_type": "markdown",
      "source": [
        "Libaries\n"
      ],
      "metadata": {
        "id": "deWnXgNvfNzg"
      }
    },
    {
      "cell_type": "code",
      "source": [
        "import this"
      ],
      "metadata": {
        "colab": {
          "base_uri": "https://localhost:8080/"
        },
        "id": "HvTIhAPXfbXn",
        "outputId": "58ac114e-73aa-4239-a490-5fc7e13fc736"
      },
      "execution_count": 1,
      "outputs": [
        {
          "output_type": "stream",
          "name": "stdout",
          "text": [
            "The Zen of Python, by Tim Peters\n",
            "\n",
            "Beautiful is better than ugly.\n",
            "Explicit is better than implicit.\n",
            "Simple is better than complex.\n",
            "Complex is better than complicated.\n",
            "Flat is better than nested.\n",
            "Sparse is better than dense.\n",
            "Readability counts.\n",
            "Special cases aren't special enough to break the rules.\n",
            "Although practicality beats purity.\n",
            "Errors should never pass silently.\n",
            "Unless explicitly silenced.\n",
            "In the face of ambiguity, refuse the temptation to guess.\n",
            "There should be one-- and preferably only one --obvious way to do it.\n",
            "Although that way may not be obvious at first unless you're Dutch.\n",
            "Now is better than never.\n",
            "Although never is often better than *right* now.\n",
            "If the implementation is hard to explain, it's a bad idea.\n",
            "If the implementation is easy to explain, it may be a good idea.\n",
            "Namespaces are one honking great idea -- let's do more of those!\n"
          ]
        }
      ]
    },
    {
      "cell_type": "markdown",
      "source": [
        "Beautiful is better than ugly.\n"
      ],
      "metadata": {
        "id": "XcWzaROHffI2"
      }
    },
    {
      "cell_type": "code",
      "source": [
        "# Ugly and hard to read:\n",
        "def f(x): return x*x + 2*x + 1\n",
        "\n",
        "# Beautiful and readable:\n",
        "def calculate_polynomial(x):\n",
        "    return x**2 + 2*x + 1\n"
      ],
      "metadata": {
        "id": "MAKg7SAjfcA9"
      },
      "execution_count": 2,
      "outputs": []
    },
    {
      "cell_type": "markdown",
      "source": [
        "Explicit is better than implicit.\n"
      ],
      "metadata": {
        "id": "9wb1IH1TfoVw"
      }
    },
    {
      "cell_type": "code",
      "source": [
        "# Implicit and confusing:\n",
        "from math import *\n",
        "result = sqrt(25)\n",
        "\n",
        "# Explicit and clear:\n",
        "import math\n",
        "result = math.sqrt(25)\n"
      ],
      "metadata": {
        "id": "dw6FJpXLfpNX"
      },
      "execution_count": 3,
      "outputs": []
    },
    {
      "cell_type": "markdown",
      "source": [
        "Simple is better than complex.\n"
      ],
      "metadata": {
        "id": "aJKNSc81ftZe"
      }
    },
    {
      "cell_type": "code",
      "source": [
        "# Complex approach:\n",
        "def is_even(number):\n",
        "    return True if number % 2 == 0 else False\n",
        "\n",
        "# Simple approach:\n",
        "def is_even(number):\n",
        "    return number % 2 == 0\n"
      ],
      "metadata": {
        "id": "0LdptafZfkMm"
      },
      "execution_count": 4,
      "outputs": []
    },
    {
      "cell_type": "markdown",
      "source": [
        "Errors should never pass silently."
      ],
      "metadata": {
        "id": "6ppGB4ORfyPW"
      }
    },
    {
      "cell_type": "code",
      "source": [
        "# Silent error handling (not recommended):\n",
        "try:\n",
        "    result = 10 / 0\n",
        "except:\n",
        "    pass\n",
        "\n",
        "# Explicit error handling:\n",
        "try:\n",
        "    result = 10 / 0\n",
        "except ZeroDivisionError:\n",
        "    print(\"Cannot divide by zero!\")\n"
      ],
      "metadata": {
        "colab": {
          "base_uri": "https://localhost:8080/"
        },
        "id": "GTpkzulLfvj4",
        "outputId": "a734e5d0-8216-4315-a306-a51ad9bafc17"
      },
      "execution_count": 5,
      "outputs": [
        {
          "output_type": "stream",
          "name": "stdout",
          "text": [
            "Cannot divide by zero!\n"
          ]
        }
      ]
    },
    {
      "cell_type": "markdown",
      "source": [
        "Flat is better than nested."
      ],
      "metadata": {
        "id": "AbBFGkKZf57O"
      }
    },
    {
      "cell_type": "code",
      "source": [
        "# Deeply nested code:\n",
        "numbers = [1, 2, 3, 4, 5]\n",
        "for number in numbers:\n",
        "    if number % 2 == 0:\n",
        "        print(f\"{number} is even\")\n",
        "\n",
        "# Flat structure:\n",
        "even_numbers = [number for number in numbers if number % 2 == 0]\n",
        "for number in even_numbers:\n",
        "    print(f\"{number} is even\")\n"
      ],
      "metadata": {
        "colab": {
          "base_uri": "https://localhost:8080/"
        },
        "id": "3j5D9vu7f14r",
        "outputId": "e380aea9-9ee1-40c0-cff9-4e3da92a092f"
      },
      "execution_count": 6,
      "outputs": [
        {
          "output_type": "stream",
          "name": "stdout",
          "text": [
            "2 is even\n",
            "4 is even\n",
            "2 is even\n",
            "4 is even\n"
          ]
        }
      ]
    },
    {
      "cell_type": "markdown",
      "source": [
        "Sparse is better than dense."
      ],
      "metadata": {
        "id": "67M0RKSmf85W"
      }
    },
    {
      "cell_type": "code",
      "source": [
        "# Dense and hard to read:\n",
        "result = [x**2 for x in range(10) if x % 2 == 0]\n",
        "\n",
        "# Sparse and more readable:\n",
        "even_numbers = [x for x in range(10) if x % 2 == 0]\n",
        "result = [x**2 for x in even_numbers]\n"
      ],
      "metadata": {
        "id": "HwN04Mhsf7vA"
      },
      "execution_count": 8,
      "outputs": []
    },
    {
      "cell_type": "markdown",
      "source": [
        "Readability counts."
      ],
      "metadata": {
        "id": "7hjmWB60gfq8"
      }
    },
    {
      "cell_type": "code",
      "source": [
        "# Less readable (all in one line):\n",
        "data = [x for x in range(10) if x % 2 == 0 and x > 4]\n",
        "\n",
        "# More readable:\n",
        "data = []\n",
        "for x in range(10):\n",
        "    if x % 2 == 0 and x > 4:\n",
        "        data.append(x)\n"
      ],
      "metadata": {
        "id": "PzyPXm8MgJvy"
      },
      "execution_count": 9,
      "outputs": []
    },
    {
      "cell_type": "markdown",
      "source": [
        "Special cases aren't special enough to break the rules."
      ],
      "metadata": {
        "id": "iRnwyWkzgkf7"
      }
    },
    {
      "cell_type": "code",
      "source": [
        "# Breaking rules with a special case (avoid this):\n",
        "def add(x, y):\n",
        "    if x == 0:\n",
        "        return \"Zero Addition\"\n",
        "    return x + y\n",
        "\n",
        "# Consistent approach (recommended):\n",
        "def add(x, y):\n",
        "    return x + y\n"
      ],
      "metadata": {
        "id": "oE2Hk6EYglz7"
      },
      "execution_count": 10,
      "outputs": []
    },
    {
      "cell_type": "markdown",
      "source": [
        "Stick to conventions unless there's a strong reason not to."
      ],
      "metadata": {
        "id": "69auujv9gp6j"
      }
    },
    {
      "cell_type": "code",
      "source": [
        "# Unconventional (confusing):\n",
        "def AddNumbers(x, y):\n",
        "    return x + y\n",
        "\n",
        "# Conventional (following Python naming standards):\n",
        "def add_numbers(x, y):\n",
        "    return x + y\n"
      ],
      "metadata": {
        "id": "SaajxsZigiw8"
      },
      "execution_count": 11,
      "outputs": []
    },
    {
      "cell_type": "markdown",
      "source": [
        "Errors should never pass silently."
      ],
      "metadata": {
        "id": "Z0UbuYMJgvFe"
      }
    },
    {
      "cell_type": "code",
      "source": [
        "# Silent error handling (avoid this):\n",
        "try:\n",
        "    result = 1 / 0\n",
        "except:\n",
        "    pass\n",
        "\n",
        "# Explicit error handling:\n",
        "try:\n",
        "    result = 1 / 0\n",
        "except ZeroDivisionError:\n",
        "    print(\"Cannot divide by zero!\")\n"
      ],
      "metadata": {
        "colab": {
          "base_uri": "https://localhost:8080/"
        },
        "id": "3GEg-A9UgsEw",
        "outputId": "0a9e6f99-f0be-4bce-8c8c-e7dda0ebb07d"
      },
      "execution_count": 12,
      "outputs": [
        {
          "output_type": "stream",
          "name": "stdout",
          "text": [
            "Cannot divide by zero!\n"
          ]
        }
      ]
    },
    {
      "cell_type": "markdown",
      "source": [
        "In the face of ambiguity, refuse the temptation to guess."
      ],
      "metadata": {
        "id": "vWpNDJPLg5n2"
      }
    },
    {
      "cell_type": "code",
      "source": [
        "# Ambiguous and confusing:\n",
        "def calculate(value):\n",
        "    if value:\n",
        "        return value * 2\n",
        "    else:\n",
        "        return None\n",
        "\n",
        "# Clearer and explicit:\n",
        "def calculate(value):\n",
        "    if isinstance(value, (int, float)) and value > 0:\n",
        "        return value * 2\n",
        "    else:\n",
        "        print(\"Invalid value\")\n",
        "        return None\n"
      ],
      "metadata": {
        "id": "MaJISnXBgw7q"
      },
      "execution_count": 13,
      "outputs": []
    },
    {
      "cell_type": "markdown",
      "source": [
        "There should be one-- and preferably only one --obvious way to do it."
      ],
      "metadata": {
        "id": "JqrTu7OQg_ol"
      }
    },
    {
      "cell_type": "code",
      "source": [
        "# Multiple ways to reverse a list (confusing):\n",
        "lst = [1, 2, 3]\n",
        "reversed_lst = lst[::-1]  # Way 1\n",
        "reversed_lst = list(reversed(lst))  # Way 2\n",
        "\n",
        "# One obvious way (clear):\n",
        "lst = [1, 2, 3]\n",
        "lst.reverse()\n"
      ],
      "metadata": {
        "id": "Hgl_tzKqg_Qd"
      },
      "execution_count": 14,
      "outputs": []
    },
    {
      "cell_type": "markdown",
      "source": [
        "Now is better than never."
      ],
      "metadata": {
        "id": "xQ-znbsWhDIV"
      }
    },
    {
      "cell_type": "code",
      "source": [
        "# Waiting for a perfect solution:\n",
        "def perfect_solution(data):\n",
        "    # Code to implement a sophisticated algorithm here...\n",
        "    pass\n",
        "\n",
        "# Starting with a workable solution (get things done):\n",
        "def quick_solution(data):\n",
        "    return sorted(data)  # A simple sort for now\n"
      ],
      "metadata": {
        "id": "pK7uNv0xg8ZY"
      },
      "execution_count": 15,
      "outputs": []
    }
  ]
}